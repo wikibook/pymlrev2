{
 "cells": [
  {
   "cell_type": "markdown",
   "metadata": {},
   "source": [
    "### 붓꽃 데이터 셋에 LDA 적용하기 "
   ]
  },
  {
   "cell_type": "code",
   "execution_count": null,
   "metadata": {},
   "outputs": [],
   "source": [
    "from sklearn.discriminant_analysis import LinearDiscriminantAnalysis\n",
    "from sklearn.preprocessing import StandardScaler\n",
    "from sklearn.datasets import load_iris\n",
    "\n",
    "iris = load_iris()\n",
    "iris_scaled = StandardScaler().fit_transform(iris.data)"
   ]
  },
  {
   "cell_type": "code",
   "execution_count": null,
   "metadata": {},
   "outputs": [],
   "source": [
    "lda = LinearDiscriminantAnalysis(n_components=2)\n",
    "lda.fit(iris_scaled, iris.target)\n",
    "iris_lda = lda.transform(iris_scaled)\n",
    "print(iris_lda.shape)"
   ]
  },
  {
   "cell_type": "code",
   "execution_count": null,
   "metadata": {},
   "outputs": [],
   "source": [
    "import pandas as pd\n",
    "import matplotlib.pyplot as plt\n",
    "%matplotlib inline\n",
    "\n",
    "lda_columns=['lda_component_1','lda_component_2']\n",
    "irisDF_lda = pd.DataFrame(iris_lda,columns=lda_columns)\n",
    "irisDF_lda['target']=iris.target\n",
    "\n",
    "#setosa는 세모, versicolor는 네모, virginica는 동그라미로 표현\n",
    "markers=['^', 's', 'o']\n",
    "\n",
    "#setosa의 target 값은 0, versicolor는 1, virginica는 2. 각 target 별로 다른 shape으로 scatter plot\n",
    "for i, marker in enumerate(markers):\n",
    "    x_axis_data = irisDF_lda[irisDF_lda['target']==i]['lda_component_1']\n",
    "    y_axis_data = irisDF_lda[irisDF_lda['target']==i]['lda_component_2']\n",
    "\n",
    "    plt.scatter(x_axis_data, y_axis_data, marker=marker,label=iris.target_names[i])\n",
    "\n",
    "plt.legend(loc='upper right')\n",
    "plt.xlabel('lda_component_1')\n",
    "plt.ylabel('lda_component_2')\n",
    "fig1 = plt.gcf()\n",
    "plt.show()\n",
    "plt.draw()"
   ]
  },
  {
   "cell_type": "code",
   "execution_count": null,
   "metadata": {},
   "outputs": [],
   "source": []
  }
 ],
 "metadata": {
  "kernelspec": {
   "display_name": "Python 3 (ipykernel)",
   "language": "python",
   "name": "python3"
  },
  "language_info": {
   "codemirror_mode": {
    "name": "ipython",
    "version": 3
   },
   "file_extension": ".py",
   "mimetype": "text/x-python",
   "name": "python",
   "nbconvert_exporter": "python",
   "pygments_lexer": "ipython3",
   "version": "3.9.7"
  }
 },
 "nbformat": 4,
 "nbformat_minor": 2
}
